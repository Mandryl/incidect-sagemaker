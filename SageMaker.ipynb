{
 "cells": [
  {
   "cell_type": "code",
   "execution_count": null,
   "metadata": {
    "collapsed": true
   },
   "outputs": [],
   "source": [
    "import sagemaker\n",
    "\n",
    "# Preference\n",
    "sagemaker_session = sagemaker.Session()\n",
    "role = sagemaker.get_execution_role()"
   ]
  },
  {
   "cell_type": "code",
   "execution_count": null,
   "outputs": [],
   "source": [
    "from sagemaker.pytorch.model import PyTorchModel\n",
    "\n",
    "# Make model\n",
    "pytorch_model = PyTorchModel(model_data=\"s3://sagemaker-studio-fltv8olasxt/eccv_final_model.tar.gz\",\n",
    "                             role=role,\n",
    "                             framework_version=\"1.8.1\",\n",
    "                             py_version=\"py36\",\n",
    "                             source_dir=\"src\",\n",
    "                             entry_point=\"sm_entrypoint.py\")"
   ],
   "metadata": {
    "collapsed": false,
    "pycharm": {
     "name": "#%%\n"
    }
   }
  },
  {
   "cell_type": "code",
   "execution_count": null,
   "outputs": [],
   "source": [
    "# Deploy model\n",
    "deploy_params = {\n",
    "    \"instance_type\": \"ml.t2.medium\",\n",
    "    \"initial_instance_count\": 1\n",
    "}\n",
    "predictor = pytorch_model.deploy(**deploy_params)"
   ],
   "metadata": {
    "collapsed": false,
    "pycharm": {
     "name": "#%%\n"
    }
   }
  },
  {
   "cell_type": "code",
   "execution_count": null,
   "outputs": [],
   "source": [
    "# Test sagemaker endpoint\n",
    "import json\n",
    "import numpy as np\n",
    "import boto3\n",
    "runtime = boto3.Session().client(service_name='sagemaker-runtime')\n",
    "\n",
    "# Load the image bytes\n",
    "img = open('IncidentsDataset/example_images/fire.jpg', 'rb').read()\n",
    "\n",
    "# Call your model for predicting which object appears in this image.\n",
    "response = runtime.invoke_endpoint(\n",
    "    EndpointName=predictor.endpoint_name,\n",
    "    ContentType='image/jpeg',\n",
    "    Body=bytearray(img)\n",
    ")\n",
    "response['Body'].read().decode('utf-8')"
   ],
   "metadata": {
    "collapsed": false,
    "pycharm": {
     "name": "#%%\n"
    }
   }
  }
 ],
 "metadata": {
  "kernelspec": {
   "display_name": "Python 3",
   "language": "python",
   "name": "python3"
  },
  "language_info": {
   "codemirror_mode": {
    "name": "ipython",
    "version": 2
   },
   "file_extension": ".py",
   "mimetype": "text/x-python",
   "name": "python",
   "nbconvert_exporter": "python",
   "pygments_lexer": "ipython2",
   "version": "2.7.6"
  }
 },
 "nbformat": 4,
 "nbformat_minor": 0
}